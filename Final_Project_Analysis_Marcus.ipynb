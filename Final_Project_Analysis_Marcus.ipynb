{
 "cells": [
  {
   "cell_type": "markdown",
   "metadata": {},
   "source": [
    "## Pre-requisites\n",
    "Env: python 3.6, latest anaconda3 distribution  \n",
    "Before running this notebook, make sure you have the following packages installed.\n",
    "- ta-lib  \n",
    "https://github.com/mrjbq7/ta-lib\n",
    "- kaggle api  \n",
    "https://github.com/Kaggle/kaggle-api\n",
    "- joblib  \n",
    "conda install joblib  \n",
    "Windows users are recommended to download and install the package directly from the github page https://github.com/joblib/joblib, as a Windows-specific bug was fixed in the recent master release but has not been pushed to conda repo yet."
   ]
  },
  {
   "cell_type": "code",
   "execution_count": 1,
   "metadata": {},
   "outputs": [
    {
     "name": "stderr",
     "output_type": "stream",
     "text": [
      "D:\\Program_Files\\Anaconda3\\envs\\stats\\lib\\site-packages\\matplotlib\\cbook\\deprecation.py:106: MatplotlibDeprecationWarning: The finance module has been deprecated in mpl 2.0 and will be removed in mpl 2.2. Please use the module mpl_finance instead.\n",
      "  warnings.warn(message, mplDeprecation, stacklevel=1)\n"
     ]
    }
   ],
   "source": [
    "import pandas as pd\n",
    "import numpy as np\n",
    "import talib\n",
    "import os\n",
    "import sklearn\n",
    "from sklearn.ensemble import RandomForestRegressor\n",
    "from sklearn.ensemble import RandomForestClassifier\n",
    "import matplotlib.pyplot as plt\n",
    "import matplotlib.ticker as mticker\n",
    "import matplotlib.finance as mpf\n",
    "import random\n",
    "from joblib import Parallel, delayed\n",
    "\n",
    "%matplotlib inline"
   ]
  },
  {
   "cell_type": "markdown",
   "metadata": {},
   "source": [
    "### Download Kaggle datasets"
   ]
  },
  {
   "cell_type": "code",
   "execution_count": 2,
   "metadata": {
    "collapsed": true
   },
   "outputs": [],
   "source": [
    "# !kaggle datasets download -d dgawlik/nyse -p ./datasets"
   ]
  },
  {
   "cell_type": "markdown",
   "metadata": {},
   "source": [
    "### Load the data"
   ]
  },
  {
   "cell_type": "code",
   "execution_count": 3,
   "metadata": {
    "collapsed": true
   },
   "outputs": [],
   "source": [
    "fundamentals = pd.read_csv(\"./datasets/fundamentals.csv\", parse_dates=['Period Ending'])\n",
    "prices = pd.read_csv(\"./datasets/prices.csv\", parse_dates=['date'])\n",
    "prices_adj = pd.read_csv(\"./datasets/prices-split-adjusted.csv\", parse_dates=['date'])\n",
    "securities = pd.read_csv(\"./datasets/securities.csv\", parse_dates=['Date first added'])"
   ]
  },
  {
   "cell_type": "code",
   "execution_count": 4,
   "metadata": {
    "collapsed": true
   },
   "outputs": [],
   "source": [
    "symbols = sorted(prices_adj['symbol'].unique())\n",
    "prices_adj.set_index(['symbol', 'date'], inplace=True, drop=True)\n",
    "prices_adj.sort_index(inplace=True)"
   ]
  },
  {
   "cell_type": "markdown",
   "metadata": {},
   "source": [
    "### Plotting"
   ]
  },
  {
   "cell_type": "code",
   "execution_count": 5,
   "metadata": {
    "scrolled": true
   },
   "outputs": [
    {
     "data": {
      "image/png": "[encoded data removed]",
      "text/plain": [
       "<matplotlib.figure.Figure at 0x2116ce3d0b8>"
      ]
     },
     "metadata": {},
     "output_type": "display_data"
    }
   ],
   "source": [
    "data = prices_adj.loc['BLK', ['open','close','high','low','volume']][:90]\n",
    "fig = plt.figure(figsize=(24, 8))\n",
    "ax = fig.add_subplot(1, 1, 1)\n",
    "mpf.candlestick2_ochl(ax, data['open'], data['close'], data['high'], data['low'], width=0.5, colorup='green', colordown='red', alpha=0.6)"
   ]
  },
  {
   "cell_type": "markdown",
   "metadata": {},
   "source": [
    "### Normalize the prices entries using the t-1 close price  \n",
    "- Effectively it's the daily return calculated as the difference of the log(price)  \n",
    "- The price movement is modeled as a Wiener process (aka a random walk) in this analysis. Under this assumption,  \n",
    "    - Return has normal distribution\n",
    "    - Sometimes people use the Poisson process to model jumps, I stick with Wiener process for its simplicity.  \n",
    "- Log transformation is performed to calculate the return  \n",
    "    - Normally $return = (price_{t} - price_{t-1}) / price_{t-1}$, it can be approximate as $return = log(price_{t})-log(price_{t-1})$. \n",
    "    - The later can be more efficiently calculated, especially when calculating the cumulative."
   ]
  },
  {
   "cell_type": "code",
   "execution_count": 6,
   "metadata": {
    "collapsed": true
   },
   "outputs": [],
   "source": [
    "ret = prices_adj.copy()\n",
    "\n",
    "# Log transfrom the prices   \n",
    "for col in ['open','close','low','high']:\n",
    "    ret[col] = np.log(ret[col])\n",
    "    \n",
    "# Get the close price of the previous day\n",
    "ret['close_m1'] = ret['close'].shift(1)\n",
    "\n",
    "# Calculate normalize the prices using t-1 close price\n",
    "ret.eval(\"\"\"\n",
    "            open = open - close_m1\n",
    "            close = close - close_m1\n",
    "            high = high - close_m1\n",
    "            low = low - close_m1\n",
    "         \"\"\",\n",
    "             inplace = True)\n",
    "\n",
    "# Drop close_m1\n",
    "ret.drop(labels=['close_m1'], axis='columns', inplace=True)\n",
    "\n",
    "# Drop the first entry for each ticker\n",
    "idx = ret.groupby('symbol').head(1).index\n",
    "ret.drop(labels=idx, axis='index', inplace=True)"
   ]
  },
  {
   "cell_type": "code",
   "execution_count": 7,
   "metadata": {},
   "outputs": [
    {
     "data": {
      "image/png": "[encoded data removed]",
      "text/plain": [
       "<matplotlib.figure.Figure at 0x2116c149dd8>"
      ]
     },
     "metadata": {},
     "output_type": "display_data"
    },
    {
     "data": {
      "image/png": "[encoded data removed]",
      "text/plain": [
       "<matplotlib.figure.Figure at 0x2116c9bf7f0>"
      ]
     },
     "metadata": {},
     "output_type": "display_data"
    },
    {
     "data": {
      "image/png": "[encoded data removed]",
      "text/plain": [
       "<matplotlib.figure.Figure at 0x2116c4679b0>"
      ]
     },
     "metadata": {},
     "output_type": "display_data"
    }
   ],
   "source": [
    "# The normal distribution assumption\n",
    "\n",
    "for i in random.choices(symbols, k=3):\n",
    "    plt.hist(ret.loc[i, 'close'], bins=100)\n",
    "    plt.title(i)\n",
    "    plt.show()"
   ]
  },
  {
   "cell_type": "code",
   "execution_count": 8,
   "metadata": {},
   "outputs": [
    {
     "data": {
      "image/png": "[encoded data removed]",
      "text/plain": [
       "<matplotlib.figure.Figure at 0x2116d3c3588>"
      ]
     },
     "metadata": {},
     "output_type": "display_data"
    },
    {
     "data": {
      "image/png": "[encoded data removed]",
      "text/plain": [
       "<matplotlib.figure.Figure at 0x2116ce6ceb8>"
      ]
     },
     "metadata": {},
     "output_type": "display_data"
    }
   ],
   "source": [
    "# Calculate the index return (baseline)\n",
    "\n",
    "df = prices_adj.reset_index('symbol').sort_index()\n",
    "bench = df.groupby(df.index)[['close']].sum()\n",
    "plt.plot(bench)\n",
    "plt.title(\"Benchmark Market Value (value weighted)\")\n",
    "plt.show()\n",
    "\n",
    "bench_ret = np.log(bench) - np.log(bench.shift(1))\n",
    "plt.plot(bench_ret)\n",
    "plt.title(\"Benchmark Daily Return\")\n",
    "plt.show()\n",
    "\n",
    "del(df)"
   ]
  },
  {
   "cell_type": "code",
   "execution_count": 9,
   "metadata": {
    "collapsed": true
   },
   "outputs": [],
   "source": [
    "# Calculate the daily active return (stock return - benchmark return)\n",
    "\n",
    "ret = ret.swaplevel().sort_index()\n",
    "ret['active'] = ret['close'] - bench_ret['close']\n",
    "\n",
    "ret = ret.swaplevel().sort_index()"
   ]
  },
  {
   "cell_type": "code",
   "execution_count": 10,
   "metadata": {
    "collapsed": true
   },
   "outputs": [],
   "source": [
    "# Some feature engineering\n",
    "\n",
    "def calc_features(symbol):\n",
    "        \n",
    "    df = ret.loc[[symbol]].copy()\n",
    "        \n",
    "    for period in [5, 10, 20, 30, 60, 90]:\n",
    "        # Momentum (cumulative return of the previous n days)\n",
    "        exec(\"\"\"df['cum_ret_%s'] = df['close'].rolling(period).sum().values\"\"\"  % period)\n",
    "\n",
    "        # Standard deviation\n",
    "        exec(\"\"\"df['std_%s'] = df['close'].rolling(period).std().values\"\"\"  % period)\n",
    "\n",
    "        # relative volume (t0 : average over the period (t-n, t-1))\n",
    "        exec(\"\"\"df['vol_to_avg_%s'] = (df['volume'] / df['volume'].shift(1).rolling(period).mean()).values\"\"\"  % period)\n",
    "\n",
    "        # relative volume (t0 : median over the period (t-n, t-1))\n",
    "        exec(\"\"\"df['vol_to_med_%s'] = (df['volume'] / df['volume'].shift(1).rolling(period).median()).values\"\"\"  % period)\n",
    "\n",
    "        # Highs and lows\n",
    "        exec(\"\"\"df['high_%s'] = df['high'].rolling(period).max().values\"\"\"  % period)\n",
    "        exec(\"\"\"df['low_%s'] = df['low'].rolling(period).min().values\"\"\"  % period)\n",
    "\n",
    "    return df\n",
    "\n",
    "# Kick it off with multi threading\n",
    "out = Parallel(n_jobs=-1, backend=\"threading\")(delayed(calc_features)(s) for s in symbols)\n",
    "    \n",
    "features = pd.concat(out)\n",
    "features.drop(['volume'], axis=1, inplace=True)\n",
    "features = features.swaplevel().sort_index()\n",
    "del(out)"
   ]
  },
  {
   "cell_type": "code",
   "execution_count": 11,
   "metadata": {
    "scrolled": true
   },
   "outputs": [
    {
     "data": {
      "text/html": [
       "<div>\n",
       "<style>\n",
       "    .dataframe thead tr:only-child th {\n",
       "        text-align: right;\n",
       "    }\n",
       "\n",
       "    .dataframe thead th {\n",
       "        text-align: left;\n",
       "    }\n",
       "\n",
       "    .dataframe tbody tr th {\n",
       "        vertical-align: top;\n",
       "    }\n",
       "</style>\n",
       "<table border=\"1\" class=\"dataframe\">\n",
       "  <thead>\n",
       "    <tr style=\"text-align: right;\">\n",
       "      <th></th>\n",
       "      <th></th>\n",
       "      <th>open</th>\n",
       "      <th>close</th>\n",
       "      <th>low</th>\n",
       "      <th>high</th>\n",
       "      <th>active</th>\n",
       "      <th>cum_ret_5</th>\n",
       "      <th>std_5</th>\n",
       "      <th>vol_to_avg_5</th>\n",
       "      <th>vol_to_med_5</th>\n",
       "      <th>high_5</th>\n",
       "      <th>...</th>\n",
       "      <th>vol_to_avg_60</th>\n",
       "      <th>vol_to_med_60</th>\n",
       "      <th>high_60</th>\n",
       "      <th>low_60</th>\n",
       "      <th>cum_ret_90</th>\n",
       "      <th>std_90</th>\n",
       "      <th>vol_to_avg_90</th>\n",
       "      <th>vol_to_med_90</th>\n",
       "      <th>high_90</th>\n",
       "      <th>low_90</th>\n",
       "    </tr>\n",
       "    <tr>\n",
       "      <th>date</th>\n",
       "      <th>symbol</th>\n",
       "      <th></th>\n",
       "      <th></th>\n",
       "      <th></th>\n",
       "      <th></th>\n",
       "      <th></th>\n",
       "      <th></th>\n",
       "      <th></th>\n",
       "      <th></th>\n",
       "      <th></th>\n",
       "      <th></th>\n",
       "      <th></th>\n",
       "      <th></th>\n",
       "      <th></th>\n",
       "      <th></th>\n",
       "      <th></th>\n",
       "      <th></th>\n",
       "      <th></th>\n",
       "      <th></th>\n",
       "      <th></th>\n",
       "      <th></th>\n",
       "      <th></th>\n",
       "    </tr>\n",
       "  </thead>\n",
       "  <tbody>\n",
       "    <tr>\n",
       "      <th rowspan=\"5\" valign=\"top\">2016-12-30</th>\n",
       "      <th>YHOO</th>\n",
       "      <td>0.002068</td>\n",
       "      <td>0.000776</td>\n",
       "      <td>-0.005450</td>\n",
       "      <td>0.009274</td>\n",
       "      <td>0.005482</td>\n",
       "      <td>0.004406</td>\n",
       "      <td>0.004696</td>\n",
       "      <td>1.135134</td>\n",
       "      <td>1.516779</td>\n",
       "      <td>0.010549</td>\n",
       "      <td>...</td>\n",
       "      <td>0.659878</td>\n",
       "      <td>0.824940</td>\n",
       "      <td>0.029782</td>\n",
       "      <td>-0.067231</td>\n",
       "      <td>-0.096790</td>\n",
       "      <td>0.015226</td>\n",
       "      <td>0.629206</td>\n",
       "      <td>0.767233</td>\n",
       "      <td>0.035633</td>\n",
       "      <td>-0.067231</td>\n",
       "    </tr>\n",
       "    <tr>\n",
       "      <th>YUM</th>\n",
       "      <td>0.004704</td>\n",
       "      <td>-0.004726</td>\n",
       "      <td>-0.007414</td>\n",
       "      <td>0.004860</td>\n",
       "      <td>-0.000020</td>\n",
       "      <td>-0.011305</td>\n",
       "      <td>0.003474</td>\n",
       "      <td>1.265084</td>\n",
       "      <td>1.327635</td>\n",
       "      <td>0.010600</td>\n",
       "      <td>...</td>\n",
       "      <td>0.431059</td>\n",
       "      <td>0.543160</td>\n",
       "      <td>0.036956</td>\n",
       "      <td>-0.028780</td>\n",
       "      <td>-0.024755</td>\n",
       "      <td>0.010374</td>\n",
       "      <td>0.440459</td>\n",
       "      <td>0.551526</td>\n",
       "      <td>0.036956</td>\n",
       "      <td>-0.028780</td>\n",
       "    </tr>\n",
       "    <tr>\n",
       "      <th>ZBH</th>\n",
       "      <td>-0.001837</td>\n",
       "      <td>-0.002903</td>\n",
       "      <td>-0.006300</td>\n",
       "      <td>0.004146</td>\n",
       "      <td>0.001803</td>\n",
       "      <td>0.015921</td>\n",
       "      <td>0.004856</td>\n",
       "      <td>1.043976</td>\n",
       "      <td>1.139614</td>\n",
       "      <td>0.011064</td>\n",
       "      <td>...</td>\n",
       "      <td>0.497139</td>\n",
       "      <td>0.615783</td>\n",
       "      <td>0.040499</td>\n",
       "      <td>-0.164802</td>\n",
       "      <td>-0.229095</td>\n",
       "      <td>0.020745</td>\n",
       "      <td>0.583125</td>\n",
       "      <td>0.733173</td>\n",
       "      <td>0.040499</td>\n",
       "      <td>-0.164802</td>\n",
       "    </tr>\n",
       "    <tr>\n",
       "      <th>ZION</th>\n",
       "      <td>0.006522</td>\n",
       "      <td>0.005825</td>\n",
       "      <td>-0.002340</td>\n",
       "      <td>0.012079</td>\n",
       "      <td>0.010532</td>\n",
       "      <td>-0.016133</td>\n",
       "      <td>0.009271</td>\n",
       "      <td>1.490273</td>\n",
       "      <td>1.558710</td>\n",
       "      <td>0.012079</td>\n",
       "      <td>...</td>\n",
       "      <td>0.604266</td>\n",
       "      <td>0.666483</td>\n",
       "      <td>0.078332</td>\n",
       "      <td>-0.058161</td>\n",
       "      <td>0.385225</td>\n",
       "      <td>0.016449</td>\n",
       "      <td>0.616697</td>\n",
       "      <td>0.666850</td>\n",
       "      <td>0.078332</td>\n",
       "      <td>-0.058161</td>\n",
       "    </tr>\n",
       "    <tr>\n",
       "      <th>ZTS</th>\n",
       "      <td>0.000373</td>\n",
       "      <td>-0.001680</td>\n",
       "      <td>-0.006549</td>\n",
       "      <td>0.002236</td>\n",
       "      <td>0.003026</td>\n",
       "      <td>0.005057</td>\n",
       "      <td>0.005744</td>\n",
       "      <td>1.199413</td>\n",
       "      <td>1.264833</td>\n",
       "      <td>0.009716</td>\n",
       "      <td>...</td>\n",
       "      <td>0.489298</td>\n",
       "      <td>0.554381</td>\n",
       "      <td>0.075981</td>\n",
       "      <td>-0.047813</td>\n",
       "      <td>0.043527</td>\n",
       "      <td>0.013283</td>\n",
       "      <td>0.493421</td>\n",
       "      <td>0.536132</td>\n",
       "      <td>0.075981</td>\n",
       "      <td>-0.047813</td>\n",
       "    </tr>\n",
       "  </tbody>\n",
       "</table>\n",
       "<p>5 rows × 41 columns</p>\n",
       "</div>"
      ],
      "text/plain": [
       "                       open     close       low      high    active  \\\n",
       "date       symbol                                                     \n",
       "2016-12-30 YHOO    0.002068  0.000776 -0.005450  0.009274  0.005482   \n",
       "           YUM     0.004704 -0.004726 -0.007414  0.004860 -0.000020   \n",
       "           ZBH    -0.001837 -0.002903 -0.006300  0.004146  0.001803   \n",
       "           ZION    0.006522  0.005825 -0.002340  0.012079  0.010532   \n",
       "           ZTS     0.000373 -0.001680 -0.006549  0.002236  0.003026   \n",
       "\n",
       "                   cum_ret_5     std_5  vol_to_avg_5  vol_to_med_5    high_5  \\\n",
       "date       symbol                                                              \n",
       "2016-12-30 YHOO     0.004406  0.004696      1.135134      1.516779  0.010549   \n",
       "           YUM     -0.011305  0.003474      1.265084      1.327635  0.010600   \n",
       "           ZBH      0.015921  0.004856      1.043976      1.139614  0.011064   \n",
       "           ZION    -0.016133  0.009271      1.490273      1.558710  0.012079   \n",
       "           ZTS      0.005057  0.005744      1.199413      1.264833  0.009716   \n",
       "\n",
       "                     ...     vol_to_avg_60  vol_to_med_60   high_60    low_60  \\\n",
       "date       symbol    ...                                                        \n",
       "2016-12-30 YHOO      ...          0.659878       0.824940  0.029782 -0.067231   \n",
       "           YUM       ...          0.431059       0.543160  0.036956 -0.028780   \n",
       "           ZBH       ...          0.497139       0.615783  0.040499 -0.164802   \n",
       "           ZION      ...          0.604266       0.666483  0.078332 -0.058161   \n",
       "           ZTS       ...          0.489298       0.554381  0.075981 -0.047813   \n",
       "\n",
       "                   cum_ret_90    std_90  vol_to_avg_90  vol_to_med_90  \\\n",
       "date       symbol                                                       \n",
       "2016-12-30 YHOO     -0.096790  0.015226       0.629206       0.767233   \n",
       "           YUM      -0.024755  0.010374       0.440459       0.551526   \n",
       "           ZBH      -0.229095  0.020745       0.583125       0.733173   \n",
       "           ZION      0.385225  0.016449       0.616697       0.666850   \n",
       "           ZTS       0.043527  0.013283       0.493421       0.536132   \n",
       "\n",
       "                    high_90    low_90  \n",
       "date       symbol                      \n",
       "2016-12-30 YHOO    0.035633 -0.067231  \n",
       "           YUM     0.036956 -0.028780  \n",
       "           ZBH     0.040499 -0.164802  \n",
       "           ZION    0.078332 -0.058161  \n",
       "           ZTS     0.075981 -0.047813  \n",
       "\n",
       "[5 rows x 41 columns]"
      ]
     },
     "execution_count": 11,
     "metadata": {},
     "output_type": "execute_result"
    }
   ],
   "source": [
    "# Check the result\n",
    "features.tail()"
   ]
  },
  {
   "cell_type": "markdown",
   "metadata": {},
   "source": [
    "### Define train and test data\n",
    "\n",
    "Due to the nature of the panel data, the train and test data is splitted on a rolling basis. for example, during the training stage I use 01/05/2010's features as the X and 01/06/2010's return as the y to fit a model. To test this model, I need to use 01/06/2010's features as the test data and 01/07/2010's return as the test label to evaluate the model. This process is repeated for all the dates."
   ]
  },
  {
   "cell_type": "code",
   "execution_count": 12,
   "metadata": {
    "collapsed": true
   },
   "outputs": [],
   "source": [
    "dates = features.reset_index()[['date']].drop_duplicates().reset_index(drop=True)\n",
    "dates.rename_axis({'date': 'X_train'}, axis=1, inplace=True)\n",
    "dates['y_train'] = dates['X_train'].shift(-1)\n",
    "dates['X_test'] = dates['X_train'].shift(-1)\n",
    "dates['y_test'] = dates['X_test'].shift(-1)\n",
    "dates['trade_date'] = dates['X_test']\n",
    "dates.set_index('trade_date', inplace=True)\n",
    "\n",
    "dates.dropna(axis=0, inplace=True)"
   ]
  },
  {
   "cell_type": "code",
   "execution_count": 13,
   "metadata": {},
   "outputs": [
    {
     "data": {
      "text/html": [
       "<div>\n",
       "<style>\n",
       "    .dataframe thead tr:only-child th {\n",
       "        text-align: right;\n",
       "    }\n",
       "\n",
       "    .dataframe thead th {\n",
       "        text-align: left;\n",
       "    }\n",
       "\n",
       "    .dataframe tbody tr th {\n",
       "        vertical-align: top;\n",
       "    }\n",
       "</style>\n",
       "<table border=\"1\" class=\"dataframe\">\n",
       "  <thead>\n",
       "    <tr style=\"text-align: right;\">\n",
       "      <th></th>\n",
       "      <th>X_train</th>\n",
       "      <th>y_train</th>\n",
       "      <th>X_test</th>\n",
       "      <th>y_test</th>\n",
       "    </tr>\n",
       "    <tr>\n",
       "      <th>trade_date</th>\n",
       "      <th></th>\n",
       "      <th></th>\n",
       "      <th></th>\n",
       "      <th></th>\n",
       "    </tr>\n",
       "  </thead>\n",
       "  <tbody>\n",
       "    <tr>\n",
       "      <th>2010-01-06</th>\n",
       "      <td>2010-01-05</td>\n",
       "      <td>2010-01-06</td>\n",
       "      <td>2010-01-06</td>\n",
       "      <td>2010-01-07</td>\n",
       "    </tr>\n",
       "    <tr>\n",
       "      <th>2010-01-07</th>\n",
       "      <td>2010-01-06</td>\n",
       "      <td>2010-01-07</td>\n",
       "      <td>2010-01-07</td>\n",
       "      <td>2010-01-08</td>\n",
       "    </tr>\n",
       "    <tr>\n",
       "      <th>2010-01-08</th>\n",
       "      <td>2010-01-07</td>\n",
       "      <td>2010-01-08</td>\n",
       "      <td>2010-01-08</td>\n",
       "      <td>2010-01-11</td>\n",
       "    </tr>\n",
       "    <tr>\n",
       "      <th>2010-01-11</th>\n",
       "      <td>2010-01-08</td>\n",
       "      <td>2010-01-11</td>\n",
       "      <td>2010-01-11</td>\n",
       "      <td>2010-01-12</td>\n",
       "    </tr>\n",
       "    <tr>\n",
       "      <th>2010-01-12</th>\n",
       "      <td>2010-01-11</td>\n",
       "      <td>2010-01-12</td>\n",
       "      <td>2010-01-12</td>\n",
       "      <td>2010-01-13</td>\n",
       "    </tr>\n",
       "  </tbody>\n",
       "</table>\n",
       "</div>"
      ],
      "text/plain": [
       "              X_train    y_train     X_test     y_test\n",
       "trade_date                                            \n",
       "2010-01-06 2010-01-05 2010-01-06 2010-01-06 2010-01-07\n",
       "2010-01-07 2010-01-06 2010-01-07 2010-01-07 2010-01-08\n",
       "2010-01-08 2010-01-07 2010-01-08 2010-01-08 2010-01-11\n",
       "2010-01-11 2010-01-08 2010-01-11 2010-01-11 2010-01-12\n",
       "2010-01-12 2010-01-11 2010-01-12 2010-01-12 2010-01-13"
      ]
     },
     "execution_count": 13,
     "metadata": {},
     "output_type": "execute_result"
    }
   ],
   "source": [
    "dates.head()"
   ]
  },
  {
   "cell_type": "code",
   "execution_count": 14,
   "metadata": {},
   "outputs": [
    {
     "data": {
      "text/html": [
       "<div>\n",
       "<style>\n",
       "    .dataframe thead tr:only-child th {\n",
       "        text-align: right;\n",
       "    }\n",
       "\n",
       "    .dataframe thead th {\n",
       "        text-align: left;\n",
       "    }\n",
       "\n",
       "    .dataframe tbody tr th {\n",
       "        vertical-align: top;\n",
       "    }\n",
       "</style>\n",
       "<table border=\"1\" class=\"dataframe\">\n",
       "  <thead>\n",
       "    <tr style=\"text-align: right;\">\n",
       "      <th></th>\n",
       "      <th>X_train</th>\n",
       "      <th>y_train</th>\n",
       "      <th>X_test</th>\n",
       "      <th>y_test</th>\n",
       "    </tr>\n",
       "    <tr>\n",
       "      <th>trade_date</th>\n",
       "      <th></th>\n",
       "      <th></th>\n",
       "      <th></th>\n",
       "      <th></th>\n",
       "    </tr>\n",
       "  </thead>\n",
       "  <tbody>\n",
       "    <tr>\n",
       "      <th>2016-12-22</th>\n",
       "      <td>2016-12-21</td>\n",
       "      <td>2016-12-22</td>\n",
       "      <td>2016-12-22</td>\n",
       "      <td>2016-12-23</td>\n",
       "    </tr>\n",
       "    <tr>\n",
       "      <th>2016-12-23</th>\n",
       "      <td>2016-12-22</td>\n",
       "      <td>2016-12-23</td>\n",
       "      <td>2016-12-23</td>\n",
       "      <td>2016-12-27</td>\n",
       "    </tr>\n",
       "    <tr>\n",
       "      <th>2016-12-27</th>\n",
       "      <td>2016-12-23</td>\n",
       "      <td>2016-12-27</td>\n",
       "      <td>2016-12-27</td>\n",
       "      <td>2016-12-28</td>\n",
       "    </tr>\n",
       "    <tr>\n",
       "      <th>2016-12-28</th>\n",
       "      <td>2016-12-27</td>\n",
       "      <td>2016-12-28</td>\n",
       "      <td>2016-12-28</td>\n",
       "      <td>2016-12-29</td>\n",
       "    </tr>\n",
       "    <tr>\n",
       "      <th>2016-12-29</th>\n",
       "      <td>2016-12-28</td>\n",
       "      <td>2016-12-29</td>\n",
       "      <td>2016-12-29</td>\n",
       "      <td>2016-12-30</td>\n",
       "    </tr>\n",
       "  </tbody>\n",
       "</table>\n",
       "</div>"
      ],
      "text/plain": [
       "              X_train    y_train     X_test     y_test\n",
       "trade_date                                            \n",
       "2016-12-22 2016-12-21 2016-12-22 2016-12-22 2016-12-23\n",
       "2016-12-23 2016-12-22 2016-12-23 2016-12-23 2016-12-27\n",
       "2016-12-27 2016-12-23 2016-12-27 2016-12-27 2016-12-28\n",
       "2016-12-28 2016-12-27 2016-12-28 2016-12-28 2016-12-29\n",
       "2016-12-29 2016-12-28 2016-12-29 2016-12-29 2016-12-30"
      ]
     },
     "execution_count": 14,
     "metadata": {},
     "output_type": "execute_result"
    }
   ],
   "source": [
    "dates.tail()"
   ]
  },
  {
   "cell_type": "code",
   "execution_count": 15,
   "metadata": {
    "collapsed": true
   },
   "outputs": [],
   "source": [
    "def train_test_split(date):\n",
    "\n",
    "    X_train = features.loc[dates.loc[date, 'X_train']].dropna(axis=0)\n",
    "    y_train = features.loc[dates.loc[date, 'y_train'],'open'].dropna(axis=0)\n",
    "    X_test = features.loc[dates.loc[date, 'X_test']].dropna(axis=0)\n",
    "    y_test = features.loc[dates.loc[date, 'y_test'],'open'].dropna(axis=0)\n",
    "\n",
    "    # Keep only the symbols that are in both sets\n",
    "    X_train = X_train.loc[X_train.index.intersection(y_train.index)].sort_index()\n",
    "    y_train = y_train.loc[y_train.index.intersection(X_train.index)].sort_index()\n",
    "    X_test = X_test.loc[X_test.index.intersection(y_test.index)].sort_index()\n",
    "    y_test = y_test.loc[y_test.index.intersection(X_test.index)].sort_index()\n",
    "\n",
    "    # Make a binary y (1 for positive return, 0 for negative return)\n",
    "    y_bin_train = (y_train > 0) * 1\n",
    "    y_bin_test = (y_test > 0) * 1\n",
    "\n",
    "    return X_train.as_matrix(), y_train.as_matrix(), y_bin_train.as_matrix(), X_test.as_matrix(), y_test.as_matrix(), y_bin_test.as_matrix()\n",
    "#     return X_train, y_train, y_bin_train, X_test, y_test, y_bin_test"
   ]
  },
  {
   "cell_type": "markdown",
   "metadata": {},
   "source": [
    "### Random forest"
   ]
  },
  {
   "cell_type": "code",
   "execution_count": 52,
   "metadata": {
    "scrolled": true
   },
   "outputs": [
    {
     "name": "stdout",
     "output_type": "stream",
     "text": [
      "Wall time: 6min 7s\n"
     ]
    }
   ],
   "source": [
    "%%time\n",
    "regr = RandomForestRegressor(n_estimators=10, random_state=1, n_jobs=-1, bootstrap=True)\n",
    "\n",
    "def evaluate_rf_regr(date):\n",
    "    X_train, y_train, y_bin_train, X_test, y_test, y_bin_test = train_test_split(date)\n",
    "    \n",
    "    try:\n",
    "        regr.fit(X_train, y_train)\n",
    "    except ValueError:\n",
    "        return\n",
    "        \n",
    "    y_pred = regr.predict(X_test)\n",
    "    \n",
    "    # Calculate the accuracy of the direction prediction\n",
    "    accu_d = sum(y_pred * y_test > 0) / len(y_test)\n",
    "    \n",
    "    # Create a long only strategy to equally buy the stock with predicted positive overnight return\n",
    "    if len(y_test[y_pred > 0]) > 0:\n",
    "        strat_return = np.mean(y_test[y_pred > 0])\n",
    "    else:\n",
    "        strat_return = 0\n",
    "    return [date, accu_d, strat_return]\n",
    "\n",
    "\n",
    "out = []\n",
    "for date in dates.index[90:]:\n",
    "    out.append(evaluate_rf_regr(date))\n",
    "\n",
    "# Kick it off with multi threading\n",
    "# out = Parallel(n_jobs=-1, timeout=60)(delayed(evaluate_rf_regr)(date) for date in dates.index[90:200])\n",
    "\n",
    "result_rf_regr = np.array(out)"
   ]
  },
  {
   "cell_type": "code",
   "execution_count": 50,
   "metadata": {},
   "outputs": [],
   "source": [
    "result_rf_regr = np.array(out)\n"
   ]
  },
  {
   "cell_type": "code",
   "execution_count": null,
   "metadata": {
    "collapsed": true
   },
   "outputs": [],
   "source": []
  },
  {
   "cell_type": "code",
   "execution_count": null,
   "metadata": {
    "collapsed": true
   },
   "outputs": [],
   "source": []
  },
  {
   "cell_type": "code",
   "execution_count": null,
   "metadata": {
    "collapsed": true
   },
   "outputs": [],
   "source": []
  },
  {
   "cell_type": "code",
   "execution_count": null,
   "metadata": {
    "collapsed": true
   },
   "outputs": [],
   "source": []
  },
  {
   "cell_type": "code",
   "execution_count": null,
   "metadata": {
    "collapsed": true
   },
   "outputs": [],
   "source": []
  },
  {
   "cell_type": "code",
   "execution_count": null,
   "metadata": {
    "collapsed": true
   },
   "outputs": [],
   "source": [
    "%%time\n",
    "regr = RandomForestClassfier(n_estimators=10, random_state=1, n_jobs=-1, bootstrap=True)\n",
    "\n",
    "def evaluate_rf_regr(date):\n",
    "    X_train, y_train, y_bin_train, X_test, y_test, y_bin_test = train_test_split(date)\n",
    "    \n",
    "    try:\n",
    "        regr.fit(X_train, y_bin_train)\n",
    "    except ValueError:\n",
    "        return\n",
    "        \n",
    "    y_pred = regr.predict(X_test)\n",
    "    \n",
    "    # Calculate the accuracy of the direction prediction\n",
    "    accu_d = sum(y_pred + y_bin_test != 1) / len(y_test)\n",
    "    \n",
    "    # Create a long only strategy to equally buy the stock with predicted positive overnight return\n",
    "    strat_return = np.mean(y_test[y_pred == 1])\n",
    "    \n",
    "    return [date, accu_d, strat_return]\n",
    "\n",
    "\n",
    "# out = []\n",
    "# for date in dates.index:\n",
    "#     out.append(evaluate_rf_regr(date))\n",
    "\n",
    "# Kick it off with multi threading\n",
    "out = Parallel(n_jobs=-1)(delayed(evaluate_rf_regr)(date) for date in dates.index)\n",
    "\n"
   ]
  },
  {
   "cell_type": "code",
   "execution_count": null,
   "metadata": {
    "collapsed": true
   },
   "outputs": [],
   "source": []
  },
  {
   "cell_type": "code",
   "execution_count": null,
   "metadata": {
    "collapsed": true
   },
   "outputs": [],
   "source": []
  },
  {
   "cell_type": "code",
   "execution_count": null,
   "metadata": {
    "collapsed": true
   },
   "outputs": [],
   "source": []
  },
  {
   "cell_type": "code",
   "execution_count": null,
   "metadata": {
    "collapsed": true
   },
   "outputs": [],
   "source": []
  },
  {
   "cell_type": "code",
   "execution_count": null,
   "metadata": {
    "collapsed": true
   },
   "outputs": [],
   "source": []
  },
  {
   "cell_type": "code",
   "execution_count": null,
   "metadata": {
    "collapsed": true
   },
   "outputs": [],
   "source": []
  },
  {
   "cell_type": "code",
   "execution_count": null,
   "metadata": {
    "collapsed": true
   },
   "outputs": [],
   "source": [
    "y_test[:6]"
   ]
  },
  {
   "cell_type": "code",
   "execution_count": null,
   "metadata": {
    "collapsed": true
   },
   "outputs": [],
   "source": [
    "y_pred * y_test"
   ]
  },
  {
   "cell_type": "code",
   "execution_count": null,
   "metadata": {
    "collapsed": true
   },
   "outputs": [],
   "source": []
  },
  {
   "cell_type": "code",
   "execution_count": null,
   "metadata": {
    "collapsed": true
   },
   "outputs": [],
   "source": []
  },
  {
   "cell_type": "code",
   "execution_count": null,
   "metadata": {
    "collapsed": true
   },
   "outputs": [],
   "source": []
  },
  {
   "cell_type": "code",
   "execution_count": null,
   "metadata": {
    "collapsed": true
   },
   "outputs": [],
   "source": []
  },
  {
   "cell_type": "markdown",
   "metadata": {},
   "source": [
    "### Some technical analysis indicators"
   ]
  },
  {
   "cell_type": "code",
   "execution_count": null,
   "metadata": {
    "collapsed": true
   },
   "outputs": [],
   "source": [
    "from talib.abstract import STOCH"
   ]
  },
  {
   "cell_type": "code",
   "execution_count": null,
   "metadata": {
    "collapsed": true
   },
   "outputs": [],
   "source": [
    "for s in symbols[:5]:\n",
    "    \n",
    "    \"\"\" Momentum using close prices \"\"\"\n",
    "    prices_adj.loc[[s], 'MOM_20'] = talib.MOM(prices_adj.loc[[s], 'close'], timeperiod=20)\n",
    "    \n",
    "    \"\"\" Simple moving average of the close prices \"\"\"\n",
    "    prices_adj.loc[[s], 'MA_5'] = talib.SMA(prices_adj.loc[[s], 'close'], timeperiod=5)\n",
    "    prices_adj.loc[[s], 'MA_10'] = talib.SMA(prices_adj.loc[[s], 'close'], timeperiod=10)\n",
    "    prices_adj.loc[[s], 'MA_20'] = talib.SMA(prices_adj.loc[[s], 'close'], timeperiod=20)\n",
    "    prices_adj.loc[[s], 'MA_50'] = talib.SMA(prices_adj.loc[[s], 'close'], timeperiod=50)\n",
    "    prices_adj.loc[[s], 'MA_100'] = talib.SMA(prices_adj.loc[[s], 'close'], timeperiod=100)\n",
    "    \n",
    "    \"\"\" Bollinger bands \"\"\"\n",
    "    upper, middle, lower = talib.BBANDS(prices_adj.loc[[s], 'close'], matype=talib.MA_Type.T3)\n",
    "    prices_adj.loc[[s], 'BBANDS.upper'] = upper\n",
    "    prices_adj.loc[[s], 'BBANDS.middle'] = middle\n",
    "    prices_adj.loc[[s], 'BBANDS.lower'] = lower\n",
    "    \n",
    "    \"\"\" Stochastic \"\"\"\n",
    "    # uses high, low, close (default)\n",
    "    prices_adj.loc[[s], ['STOCH.slowk','STOCH.slowd']] = STOCH(prices_adj.loc[s], 5, 3, 0, 3, 0).as_matrix()\n",
    "\n",
    "    # uses high, low, open instead\n",
    "#     prices_adj.loc[[s], ['STOCH.slowk','STOCH.slowd']] = STOCH(prices_adj.loc[s], 5, 3, 0, 3, 0, \n",
    "#                                                                prices=['high', 'low', 'open']).as_matrix()\n",
    "\n",
    "    "
   ]
  },
  {
   "cell_type": "code",
   "execution_count": null,
   "metadata": {
    "collapsed": true
   },
   "outputs": [],
   "source": []
  },
  {
   "cell_type": "code",
   "execution_count": null,
   "metadata": {
    "collapsed": true
   },
   "outputs": [],
   "source": []
  },
  {
   "cell_type": "code",
   "execution_count": null,
   "metadata": {
    "collapsed": true
   },
   "outputs": [],
   "source": []
  },
  {
   "cell_type": "code",
   "execution_count": null,
   "metadata": {
    "collapsed": true
   },
   "outputs": [],
   "source": []
  },
  {
   "cell_type": "code",
   "execution_count": null,
   "metadata": {
    "collapsed": true
   },
   "outputs": [],
   "source": []
  },
  {
   "cell_type": "code",
   "execution_count": null,
   "metadata": {
    "collapsed": true
   },
   "outputs": [],
   "source": []
  },
  {
   "cell_type": "code",
   "execution_count": null,
   "metadata": {
    "collapsed": true
   },
   "outputs": [],
   "source": []
  },
  {
   "cell_type": "code",
   "execution_count": null,
   "metadata": {
    "collapsed": true
   },
   "outputs": [],
   "source": []
  },
  {
   "cell_type": "code",
   "execution_count": null,
   "metadata": {
    "collapsed": true
   },
   "outputs": [],
   "source": []
  },
  {
   "cell_type": "code",
   "execution_count": null,
   "metadata": {
    "collapsed": true
   },
   "outputs": [],
   "source": []
  },
  {
   "cell_type": "code",
   "execution_count": null,
   "metadata": {
    "collapsed": true
   },
   "outputs": [],
   "source": [
    "symbols[:3]"
   ]
  },
  {
   "cell_type": "code",
   "execution_count": null,
   "metadata": {
    "collapsed": true
   },
   "outputs": [],
   "source": [
    "?train_test_split()"
   ]
  },
  {
   "cell_type": "code",
   "execution_count": null,
   "metadata": {
    "collapsed": true
   },
   "outputs": [],
   "source": [
    "securities.groupby('GICS Sector')['Ticker symbol'].count()"
   ]
  }
 ],
 "metadata": {
  "kernelspec": {
   "display_name": "Python 3",
   "language": "python",
   "name": "python3"
  },
  "language_info": {
   "codemirror_mode": {
    "name": "ipython",
    "version": 3
   },
   "file_extension": ".py",
   "mimetype": "text/x-python",
   "name": "python",
   "nbconvert_exporter": "python",
   "pygments_lexer": "ipython3",
   "version": "3.6.3"
  }
 },
 "nbformat": 4,
 "nbformat_minor": 2
}
